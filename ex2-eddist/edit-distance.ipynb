{
 "cells": [
  {
   "cell_type": "markdown",
   "metadata": {},
   "source": [
    "## Edit distance\n",
    "\n",
    "In this assignment your task will be to implement the Levenshtein distance, minimum weighted edit distance and visualize the \"alignment\" of two words.\n",
    "\n",
    "**Note**: does this sound too boring? Skip directly [to the bonus part](#Bonus%3A-constrained-but-more-efficient-Levenshtein-distance) and 100% bonus points for this assigment! (This means that you can get the full amount of points by completing the ordinary assignment or the bonus part, and that you can get twice the full amount of points by completing both.)"
   ]
  },
  {
   "cell_type": "code",
   "execution_count": null,
   "metadata": {},
   "outputs": [],
   "source": [
    "from collections import defaultdict\n",
    "\n",
    "\n",
    "examples = [\n",
    "    ('', 'empty', 5, 5.0, 'ddddd'),\n",
    "    ('empty', '', 5, 5.0, 'iiiii'),\n",
    "    ('aginst', 'against', 1, 1.0, '__d____'),\n",
    "    ('agre', 'agree', 1, 1.0, '___d_'),\n",
    "    ('aicraft', 'aircraft', 1, 1.0, '__d_____'),\n",
    "    ('alcohal', 'alcohol', 1, 1.5, '_____s_'),\n",
    "    ('contibuted', 'contributed', 1, 1.0, '____d______'),\n",
    "    ('eiter', 'either', 1, 1.0, '___d__'),\n",
    "    ('foucs', 'focus', 2, 2.0, '__ss_'),\n",
    "    ('judisuary', 'judiciary', 2, 1.7, '____ss___'),\n",
    "    ('maching', 'machine', 1, 1.5, '______s'),\n",
    "    ('maching', 'marching', 1, 1.0, '__d_____'),\n",
    "    ('maching', 'matching', 1, 1.0, '__d_____'),\n",
    "    ('realized', 'realise', 2, 2.5, '_____s_i'),\n",
    "    ('warked', 'walked', 1, 1.5, '__s___'),\n",
    "    ('profusion', 'profession', 2, 2.5, '____ds____'),\n",
    "    ('their', 'there', 2, 2.0, '___ss'),\n",
    "    ('their', 'they', 2, 2.5, '___is'),\n",
    "    ('they', 'their', 2, 2.5, '___ds'),\n",
    "    ('they', 'their', 2, 2.5, '___ds'),\n",
    "    ('they', 'they re', 3, 3.0, '____ddd'),\n",
    "    ('poorbob', 'alice', 7, 8.2, 'iisssss'),\n",
    "]"
   ]
  },
  {
   "cell_type": "markdown",
   "metadata": {},
   "source": [
    "### Levenshtein distance\n",
    "\n",
    "The [Levenshtein distance](https://en.wikipedia.org/wiki/Levenshtein_distance) (named after [Vladimir Levenshtein](https://en.wikipedia.org/wiki/Vladimir_Levenshtein) who passed away in 2017), is defined as follows:\n",
    "\n",
    "$$\\qquad\\operatorname{lev}_{a,b}(i,j) = \\begin{cases}\n",
    "  \\max(i,j) & \\text{ if } \\min(i,j)=0, \\\\\n",
    "  \\min \\begin{cases}\n",
    "          \\operatorname{lev}_{a,b}(i-1,j) + 1 \\\\\n",
    "          \\operatorname{lev}_{a,b}(i,j-1) + 1 \\\\\n",
    "          \\operatorname{lev}_{a,b}(i-1,j-1) + cost_{(a_i \\neq b_j)}\n",
    "       \\end{cases} & \\text{ otherwise.}\n",
    "\\end{cases}$$\n",
    "\n",
    "where $cost_{(a_i \\neq b_j)}$ denotes the cost of a substitution of one character to another (that is when $a_i$ is not equal to $b_j$).\n",
    "\n",
    "In the next cell, please fill in the implementation of the `levenshtein` function, using the dynamic programming approach."
   ]
  },
  {
   "cell_type": "code",
   "execution_count": null,
   "metadata": {},
   "outputs": [],
   "source": [
    "def levenshtein(x, y, cost=1):\n",
    "    \"\"\"\n",
    "    Return the minimum edit distance according to the Levenshtein\n",
    "    distance definition presented above, taking into account the\n",
    "    optional `cost` parameter.\n",
    "    \"\"\"\n",
    "    return 0"
   ]
  },
  {
   "cell_type": "markdown",
   "metadata": {},
   "source": [
    "Running the following cell will allow you to test your implementation on a couple of examples."
   ]
  },
  {
   "cell_type": "code",
   "execution_count": null,
   "metadata": {},
   "outputs": [],
   "source": [
    "for a, b, c, _, _ in examples:\n",
    "    r = levenshtein(a, b)\n",
    "    s = 'CORRECT' if r == c else 'INCORRECT'\n",
    "    print('{s:10}: {a}, {b}: {r} [{c}]'.format(s=s, a=a, b=b, r=r, c=c))"
   ]
  },
  {
   "cell_type": "markdown",
   "metadata": {},
   "source": [
    "### Weighted Edit Distance\n",
    "\n",
    "The [minimum Weighted Edit distance](https://en.wikipedia.org/wiki/Edit_distance) between two strings $a = a_1\\ldots a_n$ and $b = b_1\\ldots b_m$ is defined as $d_{mn}$ where  \n",
    "\n",
    "$$\\begin{align}d_{i0} &= \\sum_{k=1}^{i} w_\\mathrm{del}(b_{k}), & & \\quad  \\text{for}\\; 1 \\leq i \\leq m \\\\\n",
    "d_{0j} &= \\sum_{k=1}^{j} w_\\mathrm{ins}(a_{k}), & & \\quad \\text{for}\\; 1 \\leq j \\leq n \\\\\n",
    "d_{ij} &= \\begin{cases} d_{i-1, j-1} & \\text{for}\\; a_{j} = b_{i}\\\\ \\min \\begin{cases} d_{i-1, j} + w_\\mathrm{del}(b_{i})\\\\ d_{i,j-1} + w_\\mathrm{ins}(a_{j}) \\\\ d_{i-1,j-1} + w_\\mathrm{sub}(a_{j}, b_{i}) \\end{cases} & \\text{for}\\; a_{j} \\neq b_{i}\\end{cases} & & \\quad  \\text{for}\\; 1 \\leq i \\leq m, 1 \\leq j \\leq n.\\end{align}$$\n",
    "\n",
    "\n",
    "In the next cell, please fill in the implementation of the `weighted_minedit` function, using the dynamic programming approach and taking into account the weight tables `w_ins`, `w_del` and `w_sub`."
   ]
  },
  {
   "cell_type": "code",
   "execution_count": null,
   "metadata": {},
   "outputs": [],
   "source": [
    "def weighted_minedit(x, y, w_ins, w_del, w_sub):\n",
    "    \"\"\" \n",
    "    Return the weighted minimum edit distance for two strings\n",
    "    using weight tables w_ins, w_del, w_sub.\n",
    "    \n",
    "    `w_ins` and `w_del` are dicts which contain a specific \n",
    "    weight for each character. For instance\n",
    "        \n",
    "        print(w_ins(' '))\n",
    "    \n",
    "    prints\n",
    "    \n",
    "        0.5\n",
    "    \n",
    "    `w_sub` is a dict of dicts which contains a weight for\n",
    "    each combination of characters. For instance\n",
    "    \n",
    "        print(w_sub[a, a])\n",
    "    \n",
    "    \n",
    "    prints\n",
    "    \n",
    "        0.5\n",
    "    \"\"\"\n",
    "    return 0\n"
   ]
  },
  {
   "cell_type": "markdown",
   "metadata": {},
   "source": [
    "Running the following cell will once again allow you to test your implementation on a couple of examples."
   ]
  },
  {
   "cell_type": "code",
   "execution_count": null,
   "metadata": {},
   "outputs": [],
   "source": [
    "w_ins = defaultdict(lambda: 1.0)\n",
    "w_del = defaultdict(lambda: 1.0)\n",
    "w_sub = defaultdict(lambda: defaultdict(lambda: 1.5))\n",
    "\n",
    "w_ins[' '] = 0.5\n",
    "w_del[' '] = 0.5\n",
    "\n",
    "for vow1 in 'aeiou':\n",
    "    for vow2 in 'aeiou':\n",
    "        w_sub[vow1, vow2] = 0.5\n",
    "\n",
    "keyboard_map = [\n",
    "    ('i', 'o', 0.2),\n",
    "    ('i', 'u', 0.2),\n",
    "    ('n', 'm', 0.3),\n",
    "    ('v', 'b', 0.6),\n",
    "    ('t', 'y', 0.65),\n",
    "]\n",
    "\n",
    "for tup in keyboard_map:\n",
    "    w_sub[tup[0]][tup[1]] = tup[2]\n",
    "    w_sub[tup[1]][tup[0]] = tup[2]\n",
    "\n",
    "for letter in 'abcdefghijklmnopqrstuvwxyz':\n",
    "    w_sub[letter, letter] = 0\n",
    "\n",
    "for a, b, _, c, _ in examples:\n",
    "    r = weighted_minedit(a, b, w_ins, w_del, w_sub)\n",
    "    s = 'CORRECT' if r == c else 'INCORRECT'\n",
    "    print('{s:10}: {a}, {b}: {r} [{c}]'.format(s=s, a=a, b=b, r=r, c=c))\n"
   ]
  },
  {
   "cell_type": "markdown",
   "metadata": {},
   "source": [
    "### Alignment visualization\n",
    "\n",
    "One of the more interesting things one can do with an alignment between two given strings is to visualize what operations were performend \"along the way\".\n",
    "\n",
    "In the next cell please extend your implementation of the Levenshtein distance with \"back-pointers\", and then reconstruct the actual oprations used to arrive at the resulting distance."
   ]
  },
  {
   "cell_type": "code",
   "execution_count": null,
   "metadata": {},
   "outputs": [],
   "source": [
    "def get_alignment(x, y):\n",
    "    \"\"\"\n",
    "    Return the alignment as a pretty-formatted string that represents\n",
    "    the individual insertions, deletions, and substitutions.\n",
    "    \n",
    "    The respective operations are to be described as follows:\n",
    "    \n",
    "        insertion: i\n",
    "        deletion: d\n",
    "        substituion: s\n",
    "        no change: _\n",
    "    \n",
    "    Such a pretty-formatted string may then look as follows:\n",
    "    \n",
    "        d____s_i\n",
    "    \n",
    "    \"\"\"\n",
    "    return \"\"\n"
   ]
  },
  {
   "cell_type": "code",
   "execution_count": null,
   "metadata": {},
   "outputs": [],
   "source": [
    "for a, b, _, _, c in examples:\n",
    "    r = get_alignment(a, b)\n",
    "    s = 'CORRECT' if r == c else 'INCORRECT'\n",
    "    print('{s:10}: {a}, {b}: \"{r}\" [{c}]'.format(s=s, a=a, b=b, r=r, c=c))\n"
   ]
  },
  {
   "cell_type": "markdown",
   "metadata": {},
   "source": [
    "## Bonus: constrained but more efficient Levenshtein distance\n",
    "\n",
    "While the Levenshtein distance allows us to get a distance between two arbitrary strings, when dealing with Natural Language Processing tasks we are often only interested in finding out whether strings $A$ and $B$ are within some distance threshold $k$. In this case we can only focus on $k$ cells above and below the diagonal of the dynamic programming solution and only compute the distance values for these cells. That should allow us to reduce the time complexity to $O((2k + 1) n)$.\n",
    "\n",
    "Your (bonus) task, should you choose to accept it, is to implement this constrained but more efficient Levenshtein distance and use it to extract only those pairs of words from `bigram_distance_test.txt` whose Levenshtein distance is at most 4. The result should be the same as in `bigram_distance_test.txt.result`.\n",
    "\n",
    "Creating this file using a naive dynamic programing solution in Python on a machine with i5-5200U CPU took about 90 seconds. Can you get it done under a minute on the same box?\n",
    "\n",
    "Please feel free to add cells with your solution below (feel free to use the [`%%timeit` magic](https://ipython.readthedocs.io/en/stable/interactive/magics.html?highlight=timeit#magic-timeit) presented below to get the time of execution for your solution).\n",
    "\n",
    "*Bonus in a bonus*: if you also implemented the solution to the first section above, do compare it with your bonus solution -- it will provide a very convincing argument that it is indeed faster."
   ]
  },
  {
   "cell_type": "code",
   "execution_count": null,
   "metadata": {},
   "outputs": [],
   "source": [
    "%%timeit -r 3 -n 1\n",
    "\n",
    "x = range(200000)\n",
    "sum([i**2 for i in x])"
   ]
  }
 ],
 "metadata": {
  "kernelspec": {
   "display_name": "Python 3",
   "language": "python",
   "name": "python3"
  },
  "language_info": {
   "codemirror_mode": {
    "name": "ipython",
    "version": 3
   },
   "file_extension": ".py",
   "mimetype": "text/x-python",
   "name": "python",
   "nbconvert_exporter": "python",
   "pygments_lexer": "ipython3",
   "version": "3.7.2"
  }
 },
 "nbformat": 4,
 "nbformat_minor": 2
}
