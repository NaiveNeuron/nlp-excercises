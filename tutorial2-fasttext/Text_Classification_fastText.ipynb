{
  "nbformat": 4,
  "nbformat_minor": 0,
  "metadata": {
    "colab": {
      "name": "Text_Classification_fastText.ipynb",
      "version": "0.3.2",
      "provenance": []
    },
    "kernelspec": {
      "name": "python3",
      "display_name": "Python 3"
    }
  },
  "cells": [
    {
      "metadata": {
        "id": "_DdFjtLj1qis",
        "colab_type": "text"
      },
      "cell_type": "markdown",
      "source": [
        "# Predicting Cooking StackExchange tags with fastText\n",
        "\n",
        "We start with a dataset of a few thousand questions asked on [Cooking StackExchange](https://cooking.stackexchange.com/) in the fastText format.\n",
        "\n",
        "`__label__<X> __label__<Y> ... <Text>`\n",
        "\n",
        "\n",
        "For example:\n",
        "\n",
        "`__label__chocolate American equivalent for British chocolate terms`\n"
      ]
    },
    {
      "metadata": {
        "id": "UODjsAxt1ono",
        "colab_type": "code",
        "colab": {}
      },
      "cell_type": "code",
      "source": [
        "!wget https://dl.fbaipublicfiles.com/fasttext/data/cooking.stackexchange.tar.gz && tar xvzf cooking.stackexchange.tar.gz"
      ],
      "execution_count": 0,
      "outputs": []
    },
    {
      "metadata": {
        "id": "-FmlmQB42tfL",
        "colab_type": "code",
        "colab": {}
      },
      "cell_type": "code",
      "source": [
        "!head cooking.stackexchange.txt"
      ],
      "execution_count": 0,
      "outputs": []
    },
    {
      "metadata": {
        "id": "jyPeaPL03bTw",
        "colab_type": "code",
        "colab": {}
      },
      "cell_type": "code",
      "source": [
        "!wc cooking.stackexchange.txt "
      ],
      "execution_count": 0,
      "outputs": []
    },
    {
      "metadata": {
        "id": "8IWotaq83op6",
        "colab_type": "text"
      },
      "cell_type": "markdown",
      "source": [
        "We've got roughly 15k samples in our dataset. Let's split it into a training set of roughly 12k samples and testing set of 3k samples."
      ]
    },
    {
      "metadata": {
        "id": "MR_Yj97c3fD3",
        "colab_type": "code",
        "colab": {}
      },
      "cell_type": "code",
      "source": [
        "!head -n 12404 cooking.stackexchange.txt > cooking.train\n",
        "!tail -n 3000 cooking.stackexchange.txt > cooking.valid"
      ],
      "execution_count": 0,
      "outputs": []
    },
    {
      "metadata": {
        "id": "d4QTcoLc4U1E",
        "colab_type": "text"
      },
      "cell_type": "markdown",
      "source": [
        "## Installation of fastText"
      ]
    },
    {
      "metadata": {
        "id": "wFTFf8_C4SVp",
        "colab_type": "code",
        "colab": {}
      },
      "cell_type": "code",
      "source": [
        "!wget https://github.com/facebookresearch/fastText/archive/v0.1.0.zip\n",
        "!unzip v0.1.0.zip\n",
        "%cd fastText-0.1.0\n",
        "!make\n",
        "!cp fasttext ../\n",
        "%cd .."
      ],
      "execution_count": 0,
      "outputs": []
    },
    {
      "metadata": {
        "id": "sMM0RoLK6BBM",
        "colab_type": "text"
      },
      "cell_type": "markdown",
      "source": [
        "## Training and testing a fastText model"
      ]
    },
    {
      "metadata": {
        "id": "uMi85o9H858P",
        "colab_type": "text"
      },
      "cell_type": "markdown",
      "source": [
        "![The actual model architecture of fastText classification](https://cdn-images-1.medium.com/max/800/1*AgrrRZ9DpUVb3srTWs0gzA.png)"
      ]
    },
    {
      "metadata": {
        "id": "vhi9ln0x4ues",
        "colab_type": "code",
        "colab": {}
      },
      "cell_type": "code",
      "source": [
        "!./fasttext supervised -input ./cooking.train -output cooking_model1"
      ],
      "execution_count": 0,
      "outputs": []
    },
    {
      "metadata": {
        "id": "-xEv2S4846Ky",
        "colab_type": "code",
        "colab": {}
      },
      "cell_type": "code",
      "source": [
        "!./fasttext test cooking_model1.bin ./cooking.valid"
      ],
      "execution_count": 0,
      "outputs": []
    },
    {
      "metadata": {
        "id": "2T6yt2RR62rH",
        "colab_type": "text"
      },
      "cell_type": "markdown",
      "source": [
        "Looking at the results, they do not look very stellar.\n",
        "\n",
        "Let's see what options does fastText allow us to set and see if we can get it to perform better"
      ]
    },
    {
      "metadata": {
        "id": "QfKko9217kBR",
        "colab_type": "code",
        "colab": {}
      },
      "cell_type": "code",
      "source": [
        "!./fasttext supervised"
      ],
      "execution_count": 0,
      "outputs": []
    },
    {
      "metadata": {
        "id": "wFF_zi5a6P9_",
        "colab_type": "code",
        "colab": {}
      },
      "cell_type": "code",
      "source": [
        "!./fasttext supervised -minCount 2 -wordNgrams 3 -minn 3 -maxn 8 -lr 0.7 -dim 100 -epoch 25 -input ./cooking.train -output cooking_model2"
      ],
      "execution_count": 0,
      "outputs": []
    },
    {
      "metadata": {
        "id": "1bSihncU6dm8",
        "colab_type": "code",
        "colab": {}
      },
      "cell_type": "code",
      "source": [
        "!./fasttext test cooking_model2.bin ./cooking.valid 1"
      ],
      "execution_count": 0,
      "outputs": []
    },
    {
      "metadata": {
        "id": "c1irrfPU8gNO",
        "colab_type": "text"
      },
      "cell_type": "markdown",
      "source": [
        "Looks a bit better, right?\n",
        "\n",
        "Note that the command above outputs precision/recall for just the top 1 example. In many cases, however, we maybe more interested in knowing whether the \"true\" labels could be found in the say top 5 predictions, especially since many of them have more than one tag assigned.\n",
        "\n",
        "We can easily compute precision/recall in this way by executing"
      ]
    },
    {
      "metadata": {
        "id": "ckiriz80_wSa",
        "colab_type": "code",
        "colab": {}
      },
      "cell_type": "code",
      "source": [
        "!./fasttext test cooking_model2.bin ./cooking.valid 5"
      ],
      "execution_count": 0,
      "outputs": []
    },
    {
      "metadata": {
        "id": "V6GEl-hx_Hw6",
        "colab_type": "text"
      },
      "cell_type": "markdown",
      "source": [
        "Your tasks:\n",
        "\n",
        "1. See if you can improve the model further -- try to optimize both Precision and Recall at 3 predictions\n",
        "2. Try to see if some pre-processing (lowercasing, removing stop words, punctuation, ...) would be helpful here\n",
        "3. See if you can use some of the same ideas on a different [Amazon Sentiment Analysis dataset](https://storage.googleapis.com/amazonreviews/train.ft.txt.bz2) and get the testing precision/recall over 0.9!"
      ]
    }
  ]
}