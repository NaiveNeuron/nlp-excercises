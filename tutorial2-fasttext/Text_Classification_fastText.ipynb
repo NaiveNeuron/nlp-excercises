{
  "nbformat": 4,
  "nbformat_minor": 0,
  "metadata": {
    "colab": {
      "name": "Text_Classification_fastText.ipynb",
      "version": "0.3.2",
      "provenance": []
    },
    "kernelspec": {
      "name": "python3",
      "display_name": "Python 3"
    }
  },
  "cells": [
    {
      "metadata": {
        "id": "gG3Y3QNaklub",
        "colab_type": "text"
      },
      "cell_type": "markdown",
      "source": [
        "# Text Classification with fastText\n",
        "\n",
        "This quick tutorial introduces the task of text classification using the [fastText](https://fasttext.cc/) library and tries to show what the full pipeline looks like from the beginning (obtaining the dataset and preparing the train/valid split) to the end (predicting labels for unseen input data)."
      ]
    },
    {
      "metadata": {
        "id": "_DdFjtLj1qis",
        "colab_type": "text"
      },
      "cell_type": "markdown",
      "source": [
        "## The Cooking StackExchange tags dataset\n",
        "\n",
        "We'll use a dataset of a few thousand questions asked on [Cooking StackExchange](https://cooking.stackexchange.com/) which have various tags assigned to them and which already exists in the fastText format -- basically a text file where each line contains one text document that is to be classified. Note that the lines start with `__label__` tags which denote the \"ground truth\" label for that particular text document.\n",
        "\n",
        "\n",
        "`__label__<X> __label__<Y> ... <Text>`\n",
        "\n",
        "\n",
        "For example:\n",
        "\n",
        "`__label__chocolate American equivalent for British chocolate terms`\n",
        "\n",
        "--------------------------\n",
        "\n",
        "In the next few cells we'll download the dataset and take a closer look at what the data looks like (using the [`head`](https://linux.101hacks.com/unix/head/) command) and some further statistics about the dataset (using the [`wc`](https://www.tecmint.com/wc-command-examples/) -- command).\n"
      ]
    },
    {
      "metadata": {
        "id": "UODjsAxt1ono",
        "colab_type": "code",
        "colab": {}
      },
      "cell_type": "code",
      "source": [
        "!wget https://dl.fbaipublicfiles.com/fasttext/data/cooking.stackexchange.tar.gz && tar xvzf cooking.stackexchange.tar.gz"
      ],
      "execution_count": 0,
      "outputs": []
    },
    {
      "metadata": {
        "id": "-FmlmQB42tfL",
        "colab_type": "code",
        "colab": {}
      },
      "cell_type": "code",
      "source": [
        "!head cooking.stackexchange.txt"
      ],
      "execution_count": 0,
      "outputs": []
    },
    {
      "metadata": {
        "id": "jyPeaPL03bTw",
        "colab_type": "code",
        "colab": {}
      },
      "cell_type": "code",
      "source": [
        "!wc cooking.stackexchange.txt "
      ],
      "execution_count": 0,
      "outputs": []
    },
    {
      "metadata": {
        "id": "8IWotaq83op6",
        "colab_type": "text"
      },
      "cell_type": "markdown",
      "source": [
        "We've got roughly 15k samples in our dataset. Let's split it into a training set of roughly 12k samples and testing set of 3k samples."
      ]
    },
    {
      "metadata": {
        "id": "MR_Yj97c3fD3",
        "colab_type": "code",
        "colab": {}
      },
      "cell_type": "code",
      "source": [
        "!head -n 12404 cooking.stackexchange.txt > cooking.train\n",
        "!tail -n 3000 cooking.stackexchange.txt > cooking.valid"
      ],
      "execution_count": 0,
      "outputs": []
    },
    {
      "metadata": {
        "id": "d4QTcoLc4U1E",
        "colab_type": "text"
      },
      "cell_type": "markdown",
      "source": [
        "## Installation of fastText\n",
        "\n",
        "Installing fastText is realtively easy on any Unix-like system -- running the following cell should be enough to build the `fasttext` binary, which is all we need in this tutorial."
      ]
    },
    {
      "metadata": {
        "id": "wFTFf8_C4SVp",
        "colab_type": "code",
        "colab": {}
      },
      "cell_type": "code",
      "source": [
        "!wget https://github.com/facebookresearch/fastText/archive/v0.2.0.zip\n",
        "!unzip v0.2.0.zip\n",
        "%cd fastText-0.2.0\n",
        "!make\n",
        "!cp fasttext ../\n",
        "%cd .."
      ],
      "execution_count": 0,
      "outputs": []
    },
    {
      "metadata": {
        "id": "1mCAMDES486u",
        "colab_type": "text"
      },
      "cell_type": "markdown",
      "source": [
        ""
      ]
    },
    {
      "metadata": {
        "id": "sMM0RoLK6BBM",
        "colab_type": "text"
      },
      "cell_type": "markdown",
      "source": [
        "## Training and testing a fastText model"
      ]
    },
    {
      "metadata": {
        "id": "uMi85o9H858P",
        "colab_type": "text"
      },
      "cell_type": "markdown",
      "source": [
        "The actual model fastText implements is rather simple as we can see in the image below -- the negative log-likelihood the model tries to minimize in training is \n",
        "\n",
        "$$ - \\frac{1}{N} \\sum_{n=1}^{N} y_n \\log(f(BAx_n)) $$\n",
        "\n",
        "where \n",
        "- $x_n$ is the representation of a document (denoted `hidden` in the image below)\n",
        "- $A$ is the \"document\" embedding matrix \n",
        "- $B$ is the linear projection from \"document\" embeddings to output classes\n",
        "- $f$ is the `softmax` non-linearity function\n",
        "\n",
        "You can find more details on the model in section 2 the introductory paper: [Bag of Tricks for Efficient Text Classification](https://arxiv.org/abs/1607.01759). Note that the document representation $x_n$ is computed as the average of the embedding of all document features (words, word ngrams or character ngrams -- more on that later).\n",
        "\n",
        "\n",
        "![The actual model architecture of fastText classification](https://cdn-images-1.medium.com/max/800/1*AgrrRZ9DpUVb3srTWs0gzA.png)\n"
      ]
    },
    {
      "metadata": {
        "id": "cr70hgu38eCY",
        "colab_type": "text"
      },
      "cell_type": "markdown",
      "source": [
        "In the following cell we run the `supervised` command which trains a fastText model using the data in `./cooking.train` and saves the model to `./cooking_model1`."
      ]
    },
    {
      "metadata": {
        "id": "vhi9ln0x4ues",
        "colab_type": "code",
        "colab": {}
      },
      "cell_type": "code",
      "source": [
        "!./fasttext supervised -input ./cooking.train -output ./cooking_model1"
      ],
      "execution_count": 0,
      "outputs": []
    },
    {
      "metadata": {
        "id": "zjF9yEkc-XOw",
        "colab_type": "text"
      },
      "cell_type": "markdown",
      "source": [
        "Now let's see how the model does on the validation set."
      ]
    },
    {
      "metadata": {
        "id": "-xEv2S4846Ky",
        "colab_type": "code",
        "colab": {}
      },
      "cell_type": "code",
      "source": [
        "!./fasttext test cooking_model1.bin ./cooking.valid 3"
      ],
      "execution_count": 0,
      "outputs": []
    },
    {
      "metadata": {
        "id": "2T6yt2RR62rH",
        "colab_type": "text"
      },
      "cell_type": "markdown",
      "source": [
        "Looking at the results, they do not look very stellar, as both the $P@3$ and $R@3$ can be values from 0 to 1. But what do those $P@3$ and $R@3$ actually represent?\n",
        "\n",
        "The short answer is that they are the average [precision](https://en.wikipedia.org/wiki/Precision_and_recall#Precision) and [recall](https://en.wikipedia.org/wiki/Precision_and_recall#Recall) averaged over all test examples. Plus, the $@3$ tell us that we only consider the top 3 most probable labels predicted by the system. \n",
        "\n",
        "That probably did not help too much, so let's try to illustrate what that would mean using the following example:\n",
        "\n",
        "`__label__storage-method __label__equipment __label__bread __label__food-safety What's the purpose of a bread box?`\n",
        "\n",
        "As we can see, our data shows that for \"*What's the purpose of a bread box?*\" the model is supposed to predict the following labels with high probability: \n",
        "\n",
        "- `storage-method`\n",
        "- `equipment`\n",
        "- `bread`\n",
        "- `food-safety`\n",
        "\n",
        "Suppose, however, that our model predicts the following labels as the top 3 most probable:\n",
        "\n",
        "- `bread`\n",
        "- `equipment`\n",
        "- `box`\n",
        "\n",
        "Since two labels (`bread` and `equipment`) out of three were found in the top 3 most probable predictions of the model, the $P@3$ in this particular example would be $P@3 = \\frac{2}{3} = 0.66 $. We can interpret that as the model *precisely predicting* $\\frac{2}{3}$ of the top 3 predictions it provided.\n",
        "\n",
        "Furthermore, since two labels (again `bread` and `equipment`) out of all 4 that were denoted in the data as correct (or relevant) could be found in the top 3 most probable predictions of the model, the $R@3$ would be $R@3 = \\frac{2}{4} = 0.5 $. That in turn can be interpreted as the model being able to *recall* $\\frac{2}{4}$ of the correct (or relevant) labels in its top 3 most probable predictions.\n",
        "\n",
        "As we can see, the reported performance and recall of our models will strongly depend on how many of the top most probable predictions should be considered. Also, we need to consider our final use case when deciding which of these to optimize for -- in the Cooking StackExchange example we may be more interested in recall than in precision.\n",
        "\n",
        "--------------------------------\n",
        "\n",
        "Armed with this understanding of the metrics we can try to improve, let's see what options does fastText allow us to set and see if we can get the model to perform better."
      ]
    },
    {
      "metadata": {
        "id": "QfKko9217kBR",
        "colab_type": "code",
        "colab": {}
      },
      "cell_type": "code",
      "source": [
        "!./fasttext supervised"
      ],
      "execution_count": 0,
      "outputs": []
    },
    {
      "metadata": {
        "id": "2g1jFzxw__WR",
        "colab_type": "text"
      },
      "cell_type": "markdown",
      "source": [
        "There are a couple of interesting options we'll dive a bit deeper into:\n",
        "\n",
        "#### Character ngrams (`minx` and `maxn`)\n",
        "\n",
        "One of the interesting things fastText is capable of doing is incorporating character level information when preparing word vectors. You can find all the glory details in the [Enriching Word Vectors with Subword Information](https://arxiv.org/abs/1607.04606) paper, but the basic idea is as follows:\n",
        "\n",
        "Given the word `banana` and $n=3$, fastText would generate the following ngrams:\n",
        "\n",
        "- `<ba`\n",
        "- `ban`\n",
        "- `ana`\n",
        "- `nan`\n",
        "- `ana`\n",
        "- `na>`\n",
        "\n",
        "where the `<` and `>` represent the beginning and end of the word, respectively. That is quite useful because if we also had the word *ban* as part of the vocabulary, it would be represented as `<ban>` which makes it distinguishable from `ban` we extracted from banana.\n",
        "\n",
        "Note that we are still talking about bag of words model and thus only the presence of a respective ngram matters. Still, thanks to this nice setup we are pretty much by default able to model prefixes and suffixes. That is of huge practical value, since even if we now encountered say the word `bananoid`  which was not present in training data, thanks to the aforementioned character ngrams we are able to assign it at least some representation, rather than calling it an unknown word and replacing its occurences with `UNK`, which is what the standard approach would be.\n",
        "\n",
        "In fastText the length of ngrams can be set via the `-minn` and `-maxn` flags, which control the minimum and maximum length of ngrams fastText considers. By default these are set to 0, which basically turns this feature off.\n",
        "\n",
        "Let's see if our `bananoid` example would actually work by saving the word vectors fastText produces during training and trying to find out which words are the closest neighbors of `bananoid` in the learned vector space"
      ]
    },
    {
      "metadata": {
        "id": "UlkFo6EpeDKr",
        "colab_type": "code",
        "colab": {}
      },
      "cell_type": "code",
      "source": [
        "!./fasttext supervised -minn 3 -maxn 5 -input ./cooking.train -output ./cooking_model1 -saveOutput"
      ],
      "execution_count": 0,
      "outputs": []
    },
    {
      "metadata": {
        "id": "fw6DBJi4eGhc",
        "colab_type": "code",
        "colab": {}
      },
      "cell_type": "code",
      "source": [
        "!echo \"bananoid\" | ./fasttext nn ./cooking_model1.bin"
      ],
      "execution_count": 0,
      "outputs": []
    },
    {
      "metadata": {
        "id": "JR4-fH5GORH0",
        "colab_type": "text"
      },
      "cell_type": "markdown",
      "source": [
        "Although it is obvious that our training data leave a lot to be desired, seeing `bananoid` close to `bananas`, `bananas?` and `banana?` seems to suggest that the ngrams do indeed have the potential to help with out of vocabulary words."
      ]
    },
    {
      "metadata": {
        "id": "LFrjqHMZdPhi",
        "colab_type": "text"
      },
      "cell_type": "markdown",
      "source": [
        "#### Word ngrams\n",
        "\n",
        "Similarly to character ngrams, fastText can also generate ngrams from words in the document. This can be set using the `-wordNgrams` flag which is set to 1 by default: only unigrams (single words) are considered. When we set it to say 2, the sentece `smash all potatoes` would be represented as\n",
        "\n",
        "- `<smash>`\n",
        "- `<all>`\n",
        "- `<potatoes>`\n",
        "- `<smash all>`\n",
        "- `<all potatoes`\n",
        "\n",
        "-----------------\n",
        "\n",
        "Using these and some of the other available options, let us train a new version of the model and see how it performs.\n"
      ]
    },
    {
      "metadata": {
        "id": "wFF_zi5a6P9_",
        "colab_type": "code",
        "colab": {}
      },
      "cell_type": "code",
      "source": [
        "!./fasttext supervised -minCount 2 -wordNgrams 3 -minn 3 -maxn 8 -lr 0.7 -dim 100 -epoch 25 -input ./cooking.train -output cooking_model2"
      ],
      "execution_count": 0,
      "outputs": []
    },
    {
      "metadata": {
        "id": "1bSihncU6dm8",
        "colab_type": "code",
        "colab": {}
      },
      "cell_type": "code",
      "source": [
        "!./fasttext test cooking_model2.bin ./cooking.valid 3"
      ],
      "execution_count": 0,
      "outputs": []
    },
    {
      "metadata": {
        "id": "jD3WhNTmS0hT",
        "colab_type": "code",
        "colab": {}
      },
      "cell_type": "code",
      "source": [
        "!./fasttext"
      ],
      "execution_count": 0,
      "outputs": []
    },
    {
      "metadata": {
        "id": "ckiriz80_wSa",
        "colab_type": "code",
        "colab": {}
      },
      "cell_type": "code",
      "source": [
        "!./fasttext test cooking_model2.bin ./cooking.valid 3"
      ],
      "execution_count": 0,
      "outputs": []
    },
    {
      "metadata": {
        "id": "2bzAvHmafXvd",
        "colab_type": "text"
      },
      "cell_type": "markdown",
      "source": [
        "Looks a bit better, right?\n",
        "\n",
        "Still, looking at just the summary statistics is not really that much fun -- that usually comes from trying the model out on some real-world data. We can easily do that with fastText by running something like the command in the following cell:"
      ]
    },
    {
      "metadata": {
        "id": "godG5jDhf0tE",
        "colab_type": "code",
        "colab": {}
      },
      "cell_type": "code",
      "source": [
        "!echo \"Does it make sense to cook smashed potatoes?\" | ./fasttext predict-prob ./cooking_model2.bin -"
      ],
      "execution_count": 0,
      "outputs": []
    },
    {
      "metadata": {
        "id": "2gIhCAvzgK3r",
        "colab_type": "text"
      },
      "cell_type": "markdown",
      "source": [
        "Alternatively we can also ask for more than just the most probable label:"
      ]
    },
    {
      "metadata": {
        "id": "-yl7hOlqgRLE",
        "colab_type": "code",
        "colab": {}
      },
      "cell_type": "code",
      "source": [
        "!echo \"Does it make sense to cook smashed potatoes?\" | ./fasttext predict-prob ./cooking_model2.bin - 3"
      ],
      "execution_count": 0,
      "outputs": []
    },
    {
      "metadata": {
        "id": "I2j07FbWgh0N",
        "colab_type": "text"
      },
      "cell_type": "markdown",
      "source": [
        "Or ask for as many predictions as possible (`-1`) but only taking into account those that have probability higher than `0.02`:"
      ]
    },
    {
      "metadata": {
        "id": "V0NdM7SqgexL",
        "colab_type": "code",
        "colab": {}
      },
      "cell_type": "code",
      "source": [
        "!echo \"Does it make sense to cook smashed potatoes?\" | ./fasttext predict-prob ./cooking_model2.bin - -1 0.02"
      ],
      "execution_count": 0,
      "outputs": []
    },
    {
      "metadata": {
        "id": "V6GEl-hx_Hw6",
        "colab_type": "text"
      },
      "cell_type": "markdown",
      "source": [
        "## Your tasks\n",
        "\n",
        "1. See if you can improve the model further -- try to optimize both Precision and Recall at 3 predictions\n",
        "2. Try to see if some pre-processing (lowercasing, removing stop words, punctuation, ...) would be helpful here (the `bananoid` example does really suggest so). Note that fastText splits tokens on whitespace it finds in the input data, so it is not uncommon to find out that it learned word vectors for words like `banana?` among others. If you are looking for an industry-grade tokenizer, take a look at [BlingFire](https://github.com/Microsoft/BlingFire). \n",
        "3. See if you can use some of the same ideas on a different [Amazon Sentiment Analysis dataset](https://storage.googleapis.com/amazonreviews/train.ft.txt.bz2) and get the testing precision/recall over 0.9! Note that since you'll only have two classes, looking at $P@3$ and $R@3$ does not make too much sense. Thus, it would be advisable to use the following command to test your model on the validation split: `!./fasttext test-label model.bin ./data.valid`. It will (among other things) print out the metrics per each class, which is very useful in binary classification.\n",
        "\n",
        "**Bonus**: the choice of checking both Precision and Recall at 3 is rather arbitrary. Analyze the training data and find out what number would really make sense, based on the number of labels the considered documents usually have.\n",
        "\n",
        "For a more in-depth walkthrough of fastText's internals please reffer to [FastText: Under the Hood](https://towardsdatascience.com/fasttext-under-the-hood-11efc57b2b3)"
      ]
    }
  ]
}
